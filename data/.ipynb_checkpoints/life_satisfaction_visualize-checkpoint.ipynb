{
 "cells": [
  {
   "cell_type": "code",
   "execution_count": 1,
   "id": "ee6cef7a",
   "metadata": {},
   "outputs": [],
   "source": [
    "import pandas as pd\n",
    "import pymysql"
   ]
  },
  {
   "cell_type": "code",
   "execution_count": 2,
   "id": "d85e5848",
   "metadata": {},
   "outputs": [],
   "source": [
    "# mysql에 연결\n",
    "conn = pymysql.connect(host='localhost', user='root',\n",
    "                       password='2018',\n",
    "                       db='immigrant_project', charset='utf8')"
   ]
  },
  {
   "cell_type": "code",
   "execution_count": 3,
   "id": "a67bc1e1",
   "metadata": {},
   "outputs": [],
   "source": [
    "# cursor 객체 생성\n",
    "curs = conn.cursor()"
   ]
  },
  {
   "cell_type": "code",
   "execution_count": 4,
   "id": "d7e63c61",
   "metadata": {},
   "outputs": [
    {
     "data": {
      "text/html": [
       "<div>\n",
       "<style scoped>\n",
       "    .dataframe tbody tr th:only-of-type {\n",
       "        vertical-align: middle;\n",
       "    }\n",
       "\n",
       "    .dataframe tbody tr th {\n",
       "        vertical-align: top;\n",
       "    }\n",
       "\n",
       "    .dataframe thead th {\n",
       "        text-align: right;\n",
       "    }\n",
       "</style>\n",
       "<table border=\"1\" class=\"dataframe\">\n",
       "  <thead>\n",
       "    <tr style=\"text-align: right;\">\n",
       "      <th></th>\n",
       "      <th>0</th>\n",
       "      <th>1</th>\n",
       "      <th>2</th>\n",
       "      <th>3</th>\n",
       "      <th>4</th>\n",
       "      <th>5</th>\n",
       "      <th>6</th>\n",
       "      <th>7</th>\n",
       "      <th>8</th>\n",
       "    </tr>\n",
       "  </thead>\n",
       "  <tbody>\n",
       "    <tr>\n",
       "      <th>0</th>\n",
       "      <td>외국인</td>\n",
       "      <td>체류자격별</td>\n",
       "      <td>계</td>\n",
       "      <td>100.0</td>\n",
       "      <td>40.8</td>\n",
       "      <td>39.6</td>\n",
       "      <td>17.7</td>\n",
       "      <td>1.7</td>\n",
       "      <td>0.2</td>\n",
       "    </tr>\n",
       "  </tbody>\n",
       "</table>\n",
       "</div>"
      ],
      "text/plain": [
       "     0      1  2      3     4     5     6    7    8\n",
       "0  외국인  체류자격별  계  100.0  40.8  39.6  17.7  1.7  0.2"
      ]
     },
     "execution_count": 4,
     "metadata": {},
     "output_type": "execute_result"
    }
   ],
   "source": [
    "# 국내 거주 외국인의 전반적인 삶의 만족도 (2022)\n",
    "curs.execute(\"\"\"select * from life_satisfaction\n",
    "where 특성별2 = '계'\"\"\")\n",
    "result = curs.fetchall()\n",
    "satisDF = pd.DataFrame(result)\n",
    "satisDF"
   ]
  },
  {
   "cell_type": "code",
   "execution_count": 5,
   "id": "314c0de2",
   "metadata": {},
   "outputs": [
    {
     "data": {
      "text/plain": [
       "(('대상별', 253, None, 200, 200, 0, True),\n",
       " ('특성별1', 253, None, 200, 200, 0, True),\n",
       " ('특성별2', 253, None, 200, 200, 0, True),\n",
       " ('합계', 5, None, 22, 22, 31, True),\n",
       " ('매우만족', 5, None, 22, 22, 31, True),\n",
       " ('약간만족', 5, None, 22, 22, 31, True),\n",
       " ('보통', 5, None, 22, 22, 31, True),\n",
       " ('약간불만족', 5, None, 22, 22, 31, True),\n",
       " ('매우불만족', 5, None, 22, 22, 31, True))"
      ]
     },
     "execution_count": 5,
     "metadata": {},
     "output_type": "execute_result"
    }
   ],
   "source": [
    "# 헤더 정보 가져오기 (tuple형식으로 [0]번째 인덱스에 헤더 정보 포함)\n",
    "desc = curs.description\n",
    "desc"
   ]
  },
  {
   "cell_type": "code",
   "execution_count": 6,
   "id": "7bc633a5",
   "metadata": {},
   "outputs": [
    {
     "data": {
      "text/html": [
       "<div>\n",
       "<style scoped>\n",
       "    .dataframe tbody tr th:only-of-type {\n",
       "        vertical-align: middle;\n",
       "    }\n",
       "\n",
       "    .dataframe tbody tr th {\n",
       "        vertical-align: top;\n",
       "    }\n",
       "\n",
       "    .dataframe thead th {\n",
       "        text-align: right;\n",
       "    }\n",
       "</style>\n",
       "<table border=\"1\" class=\"dataframe\">\n",
       "  <thead>\n",
       "    <tr style=\"text-align: right;\">\n",
       "      <th></th>\n",
       "      <th>대상별</th>\n",
       "      <th>특성별1</th>\n",
       "      <th>특성별2</th>\n",
       "      <th>합계</th>\n",
       "      <th>매우만족</th>\n",
       "      <th>약간만족</th>\n",
       "      <th>보통</th>\n",
       "      <th>약간불만족</th>\n",
       "      <th>매우불만족</th>\n",
       "    </tr>\n",
       "  </thead>\n",
       "  <tbody>\n",
       "    <tr>\n",
       "      <th>0</th>\n",
       "      <td>외국인</td>\n",
       "      <td>체류자격별</td>\n",
       "      <td>계</td>\n",
       "      <td>100.0</td>\n",
       "      <td>40.8</td>\n",
       "      <td>39.6</td>\n",
       "      <td>17.7</td>\n",
       "      <td>1.7</td>\n",
       "      <td>0.2</td>\n",
       "    </tr>\n",
       "  </tbody>\n",
       "</table>\n",
       "</div>"
      ],
      "text/plain": [
       "   대상별   특성별1 특성별2     합계  매우만족  약간만족    보통  약간불만족  매우불만족\n",
       "0  외국인  체류자격별    계  100.0  40.8  39.6  17.7    1.7    0.2"
      ]
     },
     "execution_count": 6,
     "metadata": {},
     "output_type": "execute_result"
    }
   ],
   "source": [
    "satisDF.columns = [r[0] for r in desc]\n",
    "satisDF"
   ]
  },
  {
   "cell_type": "code",
   "execution_count": 7,
   "id": "e214287b",
   "metadata": {},
   "outputs": [],
   "source": [
    "import matplotlib.pyplot as plt\n",
    "import koreanize_matplotlib"
   ]
  },
  {
   "cell_type": "code",
   "execution_count": 8,
   "id": "7e92e02c",
   "metadata": {},
   "outputs": [],
   "source": [
    "sizes = satisDF.loc[0, '매우만족':'보통']"
   ]
  },
  {
   "cell_type": "code",
   "execution_count": 9,
   "id": "26fd92a7",
   "metadata": {},
   "outputs": [],
   "source": [
    "sizes['불만족'] = 1.9"
   ]
  },
  {
   "cell_type": "code",
   "execution_count": 10,
   "id": "1c2b5d5d",
   "metadata": {},
   "outputs": [],
   "source": [
    "labels = ['매우 만족', '약간 만족', '보통', '불만족']"
   ]
  },
  {
   "cell_type": "code",
   "execution_count": 19,
   "id": "6466c947",
   "metadata": {},
   "outputs": [
    {
     "data": {
      "image/png": "[encoded data removed]",
      "text/plain": [
       "<Figure size 640x480 with 1 Axes>"
      ]
     },
     "metadata": {},
     "output_type": "display_data"
    }
   ],
   "source": [
    "plt.title('한국생활에 대한 전반적인 만족도(이민자)')\n",
    "plt.pie(sizes, labels=labels, autopct='%1.1f%%', \n",
    "        colors=['tab:blue', 'tab:orange', 'tab:green', 'tab:red', 'tab:gray',], pctdistance=0.8, shadow=True, startangle=15)\n",
    "plt.show()"
   ]
  },
  {
   "cell_type": "code",
   "execution_count": 12,
   "id": "2df18a5e",
   "metadata": {},
   "outputs": [
    {
     "data": {
      "text/html": [
       "<div>\n",
       "<style scoped>\n",
       "    .dataframe tbody tr th:only-of-type {\n",
       "        vertical-align: middle;\n",
       "    }\n",
       "\n",
       "    .dataframe tbody tr th {\n",
       "        vertical-align: top;\n",
       "    }\n",
       "\n",
       "    .dataframe thead th {\n",
       "        text-align: right;\n",
       "    }\n",
       "</style>\n",
       "<table border=\"1\" class=\"dataframe\">\n",
       "  <thead>\n",
       "    <tr style=\"text-align: right;\">\n",
       "      <th></th>\n",
       "      <th>0</th>\n",
       "      <th>1</th>\n",
       "      <th>2</th>\n",
       "      <th>3</th>\n",
       "      <th>4</th>\n",
       "      <th>5</th>\n",
       "      <th>6</th>\n",
       "      <th>7</th>\n",
       "    </tr>\n",
       "  </thead>\n",
       "  <tbody>\n",
       "    <tr>\n",
       "      <th>0</th>\n",
       "      <td>체류자격별</td>\n",
       "      <td>계</td>\n",
       "      <td>100.0</td>\n",
       "      <td>22.6</td>\n",
       "      <td>44.9</td>\n",
       "      <td>25.1</td>\n",
       "      <td>4.1</td>\n",
       "      <td>3.4</td>\n",
       "    </tr>\n",
       "  </tbody>\n",
       "</table>\n",
       "</div>"
      ],
      "text/plain": [
       "       0  1      2     3     4     5    6    7\n",
       "0  체류자격별  계  100.0  22.6  44.9  25.1  4.1  3.4"
      ]
     },
     "execution_count": 12,
     "metadata": {},
     "output_type": "execute_result"
    }
   ],
   "source": [
    "# 영주권자, 귀화자의 한국사회 구성원이 되는데 문제가 되는 정도 (2022)\n",
    "curs.execute(\"\"\"select * from society_member\n",
    "where 특성별2 = '계'\"\"\")\n",
    "result = curs.fetchall()\n",
    "memDF = pd.DataFrame(result)\n",
    "memDF"
   ]
  },
  {
   "cell_type": "code",
   "execution_count": 13,
   "id": "fb62a032",
   "metadata": {},
   "outputs": [
    {
     "data": {
      "text/plain": [
       "(('특성별1', 253, None, 200, 200, 0, True),\n",
       " ('특성별2', 253, None, 200, 200, 0, True),\n",
       " ('합계', 5, None, 22, 22, 31, True),\n",
       " ('전혀문제가되지않음', 5, None, 22, 22, 31, True),\n",
       " ('별로문제가되지않음', 5, None, 22, 22, 31, True),\n",
       " ('약간문제가됨', 5, None, 22, 22, 31, True),\n",
       " ('매우문제가됨', 5, None, 22, 22, 31, True),\n",
       " ('모르겠음', 5, None, 22, 22, 31, True))"
      ]
     },
     "execution_count": 13,
     "metadata": {},
     "output_type": "execute_result"
    }
   ],
   "source": [
    "# 헤더 정보 가져오기 (tuple형식으로 [0]번째 인덱스에 헤더 정보 포함)\n",
    "desc = curs.description\n",
    "desc"
   ]
  },
  {
   "cell_type": "code",
   "execution_count": 14,
   "id": "96ae303a",
   "metadata": {},
   "outputs": [
    {
     "data": {
      "text/html": [
       "<div>\n",
       "<style scoped>\n",
       "    .dataframe tbody tr th:only-of-type {\n",
       "        vertical-align: middle;\n",
       "    }\n",
       "\n",
       "    .dataframe tbody tr th {\n",
       "        vertical-align: top;\n",
       "    }\n",
       "\n",
       "    .dataframe thead th {\n",
       "        text-align: right;\n",
       "    }\n",
       "</style>\n",
       "<table border=\"1\" class=\"dataframe\">\n",
       "  <thead>\n",
       "    <tr style=\"text-align: right;\">\n",
       "      <th></th>\n",
       "      <th>특성별1</th>\n",
       "      <th>특성별2</th>\n",
       "      <th>합계</th>\n",
       "      <th>전혀문제가되지않음</th>\n",
       "      <th>별로문제가되지않음</th>\n",
       "      <th>약간문제가됨</th>\n",
       "      <th>매우문제가됨</th>\n",
       "      <th>모르겠음</th>\n",
       "    </tr>\n",
       "  </thead>\n",
       "  <tbody>\n",
       "    <tr>\n",
       "      <th>0</th>\n",
       "      <td>체류자격별</td>\n",
       "      <td>계</td>\n",
       "      <td>100.0</td>\n",
       "      <td>22.6</td>\n",
       "      <td>44.9</td>\n",
       "      <td>25.1</td>\n",
       "      <td>4.1</td>\n",
       "      <td>3.4</td>\n",
       "    </tr>\n",
       "  </tbody>\n",
       "</table>\n",
       "</div>"
      ],
      "text/plain": [
       "    특성별1 특성별2     합계  전혀문제가되지않음  별로문제가되지않음  약간문제가됨  매우문제가됨  모르겠음\n",
       "0  체류자격별    계  100.0       22.6       44.9    25.1     4.1   3.4"
      ]
     },
     "execution_count": 14,
     "metadata": {},
     "output_type": "execute_result"
    }
   ],
   "source": [
    "memDF.columns = [r[0] for r in desc]\n",
    "memDF"
   ]
  },
  {
   "cell_type": "code",
   "execution_count": 15,
   "id": "fef52399",
   "metadata": {},
   "outputs": [],
   "source": [
    "sizes2 = memDF.iloc[0, 3:]"
   ]
  },
  {
   "cell_type": "code",
   "execution_count": 16,
   "id": "ded8aeeb",
   "metadata": {},
   "outputs": [],
   "source": [
    "labels2 = ['전혀 문제가 되지 않음', '별로 문제가 되지 않음', '약간 문제가 됨', '매우 문제가 됨', '모르겠음']"
   ]
  },
  {
   "cell_type": "code",
   "execution_count": 18,
   "id": "6e1fa2fe",
   "metadata": {},
   "outputs": [
    {
     "data": {
      "image/png": "[encoded data removed]",
      "text/plain": [
       "<Figure size 640x480 with 1 Axes>"
      ]
     },
     "metadata": {},
     "output_type": "display_data"
    }
   ],
   "source": [
    "plt.title('영주권자, 귀화자의 한국사회 구성원이 되는데 문제가 되는 정도')\n",
    "plt.pie(sizes2, labels=labels2, autopct='%1.1f%%', \n",
    "        colors=['tab:blue', 'tab:orange', 'tab:green', 'tab:red', 'tab:gray',], pctdistance=0.8, shadow=True)\n",
    "plt.show()"
   ]
  },
  {
   "cell_type": "code",
   "execution_count": null,
   "id": "20f697d8",
   "metadata": {},
   "outputs": [],
   "source": []
  }
 ],
 "metadata": {
  "kernelspec": {
   "display_name": "Python 3 (ipykernel)",
   "language": "python",
   "name": "python3"
  },
  "language_info": {
   "codemirror_mode": {
    "name": "ipython",
    "version": 3
   },
   "file_extension": ".py",
   "mimetype": "text/x-python",
   "name": "python",
   "nbconvert_exporter": "python",
   "pygments_lexer": "ipython3",
   "version": "3.11.5"
  }
 },
 "nbformat": 4,
 "nbformat_minor": 5
}
